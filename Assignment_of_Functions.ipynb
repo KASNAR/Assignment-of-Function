{
  "nbformat": 4,
  "nbformat_minor": 0,
  "metadata": {
    "colab": {
      "provenance": []
    },
    "kernelspec": {
      "name": "python3",
      "display_name": "Python 3"
    },
    "language_info": {
      "name": "python"
    }
  },
  "cells": [
    {
      "cell_type": "code",
      "execution_count": null,
      "metadata": {
        "id": "QlPl744aIZaY",
        "colab": {
          "base_uri": "https://localhost:8080/"
        },
        "outputId": "e0537aec-5d7c-4d16-d3f1-950f20828d69"
      },
      "outputs": [
        {
          "output_type": "stream",
          "name": "stdout",
          "text": [
            "Sum of even numbers: 22\n"
          ]
        }
      ],
      "source": [
        "my_list = [10, 3, 4, 7, 8, 9]\n",
        "result = sum_of_evens(my_list)\n",
        "print(\"Sum of even numbers:\", result)"
      ]
    },
    {
      "cell_type": "code",
      "source": [
        "word = \"Python\"\n",
        "reversed_word = reverse_string(word)\n",
        "print(\"Reversed string:\", reversed_word)"
      ],
      "metadata": {
        "colab": {
          "base_uri": "https://localhost:8080/"
        },
        "id": "7FFQ5ViHK6i5",
        "outputId": "140266f0-ff50-4df6-ddad-16c23714f41e"
      },
      "execution_count": null,
      "outputs": [
        {
          "output_type": "stream",
          "name": "stdout",
          "text": [
            "Reversed string: nohtyP\n"
          ]
        }
      ]
    },
    {
      "cell_type": "code",
      "source": [
        "def square_numbers(numbers):\n",
        "    return [num ** 2 for num in numbers]\n",
        "my_list = [1, 2, 3, 4, 5]\n",
        "result = square_numbers(my_list)\n",
        "print(\"Squared numbers:\", result)\n",
        "\n",
        "\n"
      ],
      "metadata": {
        "colab": {
          "base_uri": "https://localhost:8080/"
        },
        "id": "6yG6l4teK72C",
        "outputId": "8bbf5121-6d73-4efe-f14e-1b13d2bbd731"
      },
      "execution_count": null,
      "outputs": [
        {
          "output_type": "stream",
          "name": "stdout",
          "text": [
            "Squared numbers: [1, 4, 9, 16, 25]\n"
          ]
        }
      ]
    },
    {
      "cell_type": "code",
      "source": [
        "for num in range(1, 201):\n",
        "    if is_prime(num):\n",
        "        print(f\"{num} is a prime number.\")"
      ],
      "metadata": {
        "colab": {
          "base_uri": "https://localhost:8080/"
        },
        "id": "2OFe-A30K7_x",
        "outputId": "0898ff99-d5c9-4972-d4d2-ed033e9706a0"
      },
      "execution_count": null,
      "outputs": [
        {
          "output_type": "stream",
          "name": "stdout",
          "text": [
            "2 is a prime number.\n",
            "3 is a prime number.\n",
            "5 is a prime number.\n",
            "7 is a prime number.\n",
            "11 is a prime number.\n",
            "13 is a prime number.\n",
            "17 is a prime number.\n",
            "19 is a prime number.\n",
            "23 is a prime number.\n",
            "29 is a prime number.\n",
            "31 is a prime number.\n",
            "37 is a prime number.\n",
            "41 is a prime number.\n",
            "43 is a prime number.\n",
            "47 is a prime number.\n",
            "53 is a prime number.\n",
            "59 is a prime number.\n",
            "61 is a prime number.\n",
            "67 is a prime number.\n",
            "71 is a prime number.\n",
            "73 is a prime number.\n",
            "79 is a prime number.\n",
            "83 is a prime number.\n",
            "89 is a prime number.\n",
            "97 is a prime number.\n",
            "101 is a prime number.\n",
            "103 is a prime number.\n",
            "107 is a prime number.\n",
            "109 is a prime number.\n",
            "113 is a prime number.\n",
            "127 is a prime number.\n",
            "131 is a prime number.\n",
            "137 is a prime number.\n",
            "139 is a prime number.\n",
            "149 is a prime number.\n",
            "151 is a prime number.\n",
            "157 is a prime number.\n",
            "163 is a prime number.\n",
            "167 is a prime number.\n",
            "173 is a prime number.\n",
            "179 is a prime number.\n",
            "181 is a prime number.\n",
            "191 is a prime number.\n",
            "193 is a prime number.\n",
            "197 is a prime number.\n",
            "199 is a prime number.\n"
          ]
        }
      ]
    },
    {
      "cell_type": "code",
      "source": [
        "\n",
        "fib = Fibonacci(10)\n",
        "\n",
        "for number in fib:\n",
        "    print(number)"
      ],
      "metadata": {
        "colab": {
          "base_uri": "https://localhost:8080/"
        },
        "id": "o2EwPHY3K8Iq",
        "outputId": "074eb20f-b6f9-449c-c41a-b9467da439df"
      },
      "execution_count": null,
      "outputs": [
        {
          "output_type": "stream",
          "name": "stdout",
          "text": [
            "0\n",
            "1\n",
            "1\n",
            "1\n",
            "2\n",
            "3\n",
            "5\n",
            "8\n",
            "13\n",
            "21\n"
          ]
        }
      ]
    },
    {
      "cell_type": "code",
      "source": [
        "for value in powers_of_two(5):\n",
        "    print(value)\n",
        "\n",
        "\n",
        "\n"
      ],
      "metadata": {
        "colab": {
          "base_uri": "https://localhost:8080/"
        },
        "id": "fB7sTu-pSXlB",
        "outputId": "f61c12c4-f7fa-43ba-b18e-d6d52b2a2a50"
      },
      "execution_count": null,
      "outputs": [
        {
          "output_type": "stream",
          "name": "stdout",
          "text": [
            "1\n",
            "2\n",
            "4\n",
            "8\n",
            "16\n",
            "32\n"
          ]
        }
      ]
    },
    {
      "cell_type": "code",
      "source": [
        "def read_file_line_by_line(file_path):\n",
        "    \"\"\"\n",
        "    Generator function that reads a file line by line.\n",
        "\n",
        "    :param file_path: Path to the file\n",
        "    :yield: Each line in the file as a string (including newline character)\n",
        "    \"\"\"\n",
        "    with open(file_path, 'r') as file:\n",
        "        for line in file:\n",
        "            yield line  # You can use line.rstrip('\\n') to remove newline if preferred"
      ],
      "metadata": {
        "id": "T2XyqSfpSXxT"
      },
      "execution_count": null,
      "outputs": []
    },
    {
      "cell_type": "code",
      "source": [
        "data = [(1, 3), (4, 1), (2, 5), (3, 2)]\n",
        "sorted_data = sorted(data, key=lambda x: x[1])\n",
        "print(\"Sorted list:\", sorted_data)"
      ],
      "metadata": {
        "colab": {
          "base_uri": "https://localhost:8080/"
        },
        "id": "1qFZHsNISX6J",
        "outputId": "8bd2eb4d-ee2a-4ca3-d263-577cc25f3bc7"
      },
      "execution_count": null,
      "outputs": [
        {
          "output_type": "stream",
          "name": "stdout",
          "text": [
            "Sorted list: [(4, 1), (3, 2), (1, 3), (2, 5)]\n"
          ]
        }
      ]
    },
    {
      "cell_type": "code",
      "source": [
        "\n",
        "celsius_temps = [0, 20, 37, 100]\n",
        "fahrenheit_temps = list(map(lambda c: (c * 9/5) + 32, celsius_temps))\n",
        "print(\"Temperatures in Fahrenheit:\", fahrenheit_temps)"
      ],
      "metadata": {
        "colab": {
          "base_uri": "https://localhost:8080/"
        },
        "id": "Rc5zzPO-SYBn",
        "outputId": "72d37a3e-d8e7-45de-93ca-cd63a1055d6b"
      },
      "execution_count": null,
      "outputs": [
        {
          "output_type": "stream",
          "name": "stdout",
          "text": [
            "Temperatures in Fahrenheit: [32.0, 68.0, 98.6, 212.0]\n"
          ]
        }
      ]
    },
    {
      "cell_type": "code",
      "source": [
        "def remove_vowels(text):\n",
        "    vowels = \"aeiouAEIOU\"\n",
        "    return ''.join(filter(lambda char: char not in vowels, text))\n",
        "input_string = \"Hello, World!\"\n",
        "result = remove_vowels(input_string)\n",
        "print(\"String without vowels:\", result)"
      ],
      "metadata": {
        "colab": {
          "base_uri": "https://localhost:8080/"
        },
        "id": "5Ye5KnKYSYI2",
        "outputId": "2a9c4802-25dd-4406-8684-65595f4f8e69"
      },
      "execution_count": null,
      "outputs": [
        {
          "output_type": "stream",
          "name": "stdout",
          "text": [
            "String without vowels: Hll, Wrld!\n"
          ]
        }
      ]
    },
    {
      "cell_type": "code",
      "source": [
        "\n",
        "orders = [\n",
        "    [34587, \"Learning Python, Mark Lutz\", 4, 40.95],\n",
        "    [98762, \"Programming Python, Mark Lutz\", 5, 56.80],\n",
        "    [77226, \"Head First Python, Paul Barry\", 3, 32.95],\n",
        "    [88112, \"Einführung in Python3, Bernd Klein\", 3, 24.99]\n",
        "]\n",
        "final_orders = list(map(\n",
        "    lambda order: (\n",
        "        order[0],\n",
        "        round(order[2] * order[3] + (10 if order[2] * order[3] < 100 else 0), 2)\n",
        "    ),\n",
        "    orders\n",
        "))\n",
        "print(\"Processed Orders:\")\n",
        "for item in final_orders:\n",
        "    print(item)"
      ],
      "metadata": {
        "colab": {
          "base_uri": "https://localhost:8080/"
        },
        "id": "qNsv4WA1YZKq",
        "outputId": "b2257ac9-8bcc-4afe-8820-008a8df542c5"
      },
      "execution_count": null,
      "outputs": [
        {
          "output_type": "stream",
          "name": "stdout",
          "text": [
            "Processed Orders:\n",
            "(34587, 163.8)\n",
            "(98762, 284.0)\n",
            "(77226, 108.85)\n",
            "(88112, 84.97)\n"
          ]
        }
      ]
    },
    {
      "cell_type": "markdown",
      "source": [
        "1. What is the difference between a function and a method in Python?\n",
        "\n",
        "Function is a block of code which perform some specific task. Also function are reusable, neat , clean and organised which saves a lot of time.\n",
        "Method is a function which is associated with object.\n",
        "Eg- def sum_of_two-numbers(a,b):\n",
        "               return a+b"
      ],
      "metadata": {
        "id": "mMSG311iIfGS"
      }
    },
    {
      "cell_type": "markdown",
      "source": [
        " Method\n",
        "Definition: A method is a function that belongs to an object (usually a class instance).\n",
        "\n",
        "It is called on an object, and the object is automatically passed as the first parameter (typically self).\n",
        "\n",
        "Defined inside a class."
      ],
      "metadata": {
        "id": "atAe84YiJH-C"
      }
    },
    {
      "cell_type": "markdown",
      "source": [
        "2. Explain the concept of function arguments and parameters in Python.\n",
        "\n",
        " Paramenters is variable listed in functions definition.\n",
        "Arguments is the actual value we pass when function is called.\n",
        "\n",
        " - Eg-  def suare_root (a):         (here a is a parameter)\n",
        "               Return a*a              (here the value we will pass is arguments"
      ],
      "metadata": {
        "id": "LrsfnEObJUZZ"
      }
    },
    {
      "cell_type": "markdown",
      "source": [
        "3. What are the different ways to define and call a function in Python?\n",
        "\n",
        "We can define a function by def and lambda. We can call function by function name followed by paranthesis().\n",
        "\n",
        "  - Eg- for defining a function:  \n",
        "     def product_of numbers(a,b):\n",
        "                 Return a*b\n",
        "   - For calling a function: product_of numbers(2,5)"
      ],
      "metadata": {
        "id": "tkWSIdomKAkB"
      }
    },
    {
      "cell_type": "markdown",
      "source": [
        "Keyword Arguments"
      ],
      "metadata": {
        "id": "OQKKWrOaK1ga"
      }
    },
    {
      "cell_type": "markdown",
      "source": [
        "4. What is the purpose of the `return` statement in a Python function?\n",
        "\n",
        " Return is used to exit the function and give the result to the caller.\n",
        "\n",
        "  - Eg- def product_of numbers(a,b):\n",
        "                 Return a*b\n",
        "\n"
      ],
      "metadata": {
        "id": "2uQF97xVLHlb"
      }
    },
    {
      "cell_type": "markdown",
      "source": [
        "5. What are iterators in Python and how do they differ from iterables?\n",
        "\n",
        "An iterator is an object representing a stream of data that return the data one by one.\n",
        "iterator is different from iterable because iterables are python object that is capable of returning its members one at a time.\n",
        "\n",
        " - Eg- l =iter([1,2,3,4])\n",
        "        Next(l) -1\n",
        "        Next(l) -2\n",
        "        Next(l) -3\n",
        "        Next(l) -4\n"
      ],
      "metadata": {
        "id": "3Bl6SvU_Llpi"
      }
    },
    {
      "cell_type": "markdown",
      "source": [
        "6. Explain the concept of generators in Python and how they are defined.\n",
        "\n",
        " Generator in python are a way to create iterators in a more consise and memory efficient manner.\n",
        "We can define generator under function using ‘yield’.\n",
        "\n",
        "- Eg-  def square_generator(n):\n",
        "               for i in range (n):\n",
        "                yield i**2\n",
        "\n",
        "  - Calling: quare_generator(3)\n",
        "\n",
        "  Next(gen) -0\n",
        "  Next(gen) -1\n",
        "  Next(gen) -4"
      ],
      "metadata": {
        "id": "QLOdP6JTMKzS"
      }
    },
    {
      "cell_type": "markdown",
      "source": [
        "7. What are the advantages of using generators over regular functions?\n",
        "\n",
        " The advantage of generator is it used to produce a series of value over time, one at a time rather than returing a single result.\n",
        "\n",
        " - Eg-  def square_generator(n):\n",
        "               for i in range (n):\n",
        "                yield i**2\n",
        "\n",
        "  - Calling: quare_generator(3)\n",
        "\n",
        "   Next(gen) -0\n",
        "   Next(gen) -1\n",
        "   Next(gen) -4\n"
      ],
      "metadata": {
        "id": "vcGuWZFCNXda"
      }
    },
    {
      "cell_type": "markdown",
      "source": [
        "8. What is a lambda function in Python and when is it typically used?\n",
        "- A lambda function in python is a concise way to create anonymous function. it is used to define short term operations and defined in a single line.\n",
        "\n",
        " - Eg-  add =lambda a,b :a+b\n",
        "        Add(2,7) :- 9"
      ],
      "metadata": {
        "id": "HuWEF1V4Q5DD"
      }
    },
    {
      "cell_type": "markdown",
      "source": [
        "9. Explain the purpose and usage of the `map()` function in Python.\n",
        "\n",
        " Map excutes a specified function for each of item of a iterator.\n",
        "The usage is when we want to transform all the elements in a collection\n",
        "\n",
        " - Eg- l= [1,2,3,4,5]\n",
        "       def add(x):\n",
        "           Return x+10\n",
        "        List(map(add,l))\n",
        "  - Output: [11,12,13,14,15]\n",
        "\n",
        "\n"
      ],
      "metadata": {
        "id": "f8o94LyfPI-B"
      }
    },
    {
      "cell_type": "markdown",
      "source": [
        "10. What is the difference between `map()`, `reduce()`, and `filter()` functions in Python?\n",
        "\n",
        "Map:Map applies a function to each item in an iterable and returns a new transformed iterable items.\n",
        "\n",
        "adding 10 in the list-  \n",
        "a= [1,2,3,4,5]\n",
        "       def add(x):\n",
        "           Return x+10\n",
        "        List(map(add,a))\n",
        "Output: [11,12,13,14,15]\n",
        "\n",
        "- Reduce :Reduce applies a function cumulatively to the items of an iterable, from left to right to reduce the iterable to a single value.\n",
        "\n",
        "checking sum of the list-\n",
        "l= [2,1,3,4,4,5,6]\n",
        "Reduce(lambda x,  y: x+y, l)\n",
        "Output: 25\n",
        "\n",
        "- Filters:It is used to filter elements from a iterable vased on some condition. Filters will filter the elements of an iterable using a function that returns True or False.\n",
        "\n",
        "checking even in the list-\n",
        "L2 = [2,1,3,4,4,5,6]\n",
        "List(filter(lambda x: x%2 ==0, l2))\n",
        "Output: [2,4,4,6]"
      ],
      "metadata": {
        "id": "r9J85e_8PZ8Q"
      }
    },
    {
      "cell_type": "markdown",
      "source": [
        "11. Using pen & Paper write the internal mechanism for sum operation using  reduce function on this given\n",
        "list:[47,11,42,13];\n",
        "\n",
        " (Attach paper image for this answer) in doc or colab notebook.\n"
      ],
      "metadata": {
        "id": "Hi8C7X7iRoh3"
      }
    }
  ]
}